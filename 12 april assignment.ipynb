{
 "cells": [
  {
   "cell_type": "code",
   "execution_count": null,
   "id": "dc2b00a9-7965-4bda-862d-b48c6406200b",
   "metadata": {},
   "outputs": [],
   "source": [
    "Q1(Ans)Bagging attempts to reduce the chance of overfitting complex models. It trains a large number of “strong” learners in parallel.\n",
    "A strong learner is a model that relatively unconstrained. Bagging then combines all the strong learners together in order \n",
    "to “smooth out” their predictions"
   ]
  },
  {
   "cell_type": "code",
   "execution_count": null,
   "id": "54594a0b-ec94-4bfa-954a-dfd7dc9b707a",
   "metadata": {},
   "outputs": [],
   "source": [
    "Q2(Ans) Advantages of bagging\n",
    "* Ease of implementation: Python libraries such as scikit-learn (also known as sklearn) make it easy to combine the predictions\n",
    "of base learners or estimators to improve model performance. ...\n",
    "* Reduction of variance: Bagging can reduce the variance within a learning algorithm.\n",
    "\n",
    "Disadvantages of bagging\n",
    "One disadvantage of bagging is that it introduces a loss of interpretability of a model."
   ]
  },
  {
   "cell_type": "code",
   "execution_count": null,
   "id": "45058442-e779-4796-b729-99611f057f0d",
   "metadata": {},
   "outputs": [],
   "source": [
    "Q3(Ans)\n",
    "Bagging performs well on high variance models like decision trees. On lower variance models such as linear regression, \n",
    "it is not expected to affect the learning process. However, as per an experiment documented in this article, \n",
    "the accuracy reduces when bagging is carried out on models with high bias"
   ]
  },
  {
   "cell_type": "code",
   "execution_count": null,
   "id": "726b95b9-0276-4f11-a1d9-bf1060f68368",
   "metadata": {},
   "outputs": [],
   "source": [
    "Q4(Ans)It is used to deal with bias-variance trade-offs and reduces the variance of a prediction model. \n",
    "Bagging avoids overfitting of data and is used for both regression and classification models, specifically for decision tree algorithms."
   ]
  },
  {
   "cell_type": "code",
   "execution_count": null,
   "id": "0f18e82c-68e1-40ae-9f67-64bf5084a49d",
   "metadata": {},
   "outputs": [],
   "source": [
    "Q5(Ans)Ensemble methods are techniques that create multiple models and then combine them to produce improved results. \n",
    "Ensemble methods in machine learning usually produce more accurate solutions than a single model would.\n",
    "\n",
    "There are no restrictions/guidelines on the number of models including in Ensemble"
   ]
  },
  {
   "cell_type": "code",
   "execution_count": null,
   "id": "4047c187-404d-46dc-b1d3-08451891c865",
   "metadata": {},
   "outputs": [],
   "source": [
    "Q6(Ans) Example of a real-world application of bagging in machine learning\n",
    "* Healthcare: Bagging has been used to form medical data predictions\n",
    "*Bagging Classifier can be used to detect fraudulent transactions by aggregating predictions from multiple fraud detection models"
   ]
  }
 ],
 "metadata": {
  "kernelspec": {
   "display_name": "Python 3 (ipykernel)",
   "language": "python",
   "name": "python3"
  },
  "language_info": {
   "codemirror_mode": {
    "name": "ipython",
    "version": 3
   },
   "file_extension": ".py",
   "mimetype": "text/x-python",
   "name": "python",
   "nbconvert_exporter": "python",
   "pygments_lexer": "ipython3",
   "version": "3.10.8"
  }
 },
 "nbformat": 4,
 "nbformat_minor": 5
}
